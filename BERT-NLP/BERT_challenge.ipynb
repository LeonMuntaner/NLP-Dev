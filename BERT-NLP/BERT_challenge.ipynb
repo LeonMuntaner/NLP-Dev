{
 "cells": [
  {
   "attachments": {},
   "cell_type": "markdown",
   "metadata": {},
   "source": [
    "### NLP Model Size\n",
    "1. How many parameters does the BERT base cased model have (bert-base-cased)? \n",
    "\n",
    "2. If I know the number of parameters for a model, how might I be able to determine how much memory is required when running a model inference? (Each parameter is represented as a single precision floating point number)\n",
    "\n",
    "3. If I wanted to run a GPT-3 inference. How much RAM would my infrastructure require."
   ]
  },
  {
   "cell_type": "code",
   "execution_count": 1,
   "metadata": {},
   "outputs": [
    {
     "name": "stderr",
     "output_type": "stream",
     "text": [
      "Downloading: 100%|██████████| 570/570 [00:00<00:00, 190kB/s]\n",
      "c:\\Users\\muntanerl2\\Anaconda3\\envs\\NLP-env\\lib\\site-packages\\huggingface_hub\\file_download.py:127: UserWarning: `huggingface_hub` cache-system uses symlinks by default to efficiently store duplicated files but your machine does not support them in C:\\Users\\muntanerl2\\.cache\\huggingface\\hub. Caching files will still work but in a degraded version that might require more space on your disk. This warning can be disabled by setting the `HF_HUB_DISABLE_SYMLINKS_WARNING` environment variable. For more details, see https://huggingface.co/docs/huggingface_hub/how-to-cache#limitations.\n",
      "To support symlinks on Windows, you either need to activate Developer Mode or to run Python as an administrator. In order to see activate developer mode, see this article: https://docs.microsoft.com/en-us/windows/apps/get-started/enable-your-device-for-development\n",
      "  warnings.warn(message)\n",
      "Downloading: 100%|██████████| 436M/436M [00:21<00:00, 20.2MB/s] \n",
      "Some weights of the model checkpoint at bert-base-cased were not used when initializing BertModel: ['cls.predictions.transform.dense.weight', 'cls.predictions.bias', 'cls.predictions.transform.LayerNorm.bias', 'cls.predictions.decoder.weight', 'cls.predictions.transform.LayerNorm.weight', 'cls.predictions.transform.dense.bias', 'cls.seq_relationship.weight', 'cls.seq_relationship.bias']\n",
      "- This IS expected if you are initializing BertModel from the checkpoint of a model trained on another task or with another architecture (e.g. initializing a BertForSequenceClassification model from a BertForPreTraining model).\n",
      "- This IS NOT expected if you are initializing BertModel from the checkpoint of a model that you expect to be exactly identical (initializing a BertForSequenceClassification model from a BertForSequenceClassification model).\n",
      "Downloading: 100%|██████████| 29.0/29.0 [00:00<00:00, 8.10kB/s]\n",
      "Downloading: 100%|██████████| 213k/213k [00:00<00:00, 392kB/s] \n",
      "Downloading: 100%|██████████| 436k/436k [00:00<00:00, 459kB/s] \n"
     ]
    },
    {
     "name": "stdout",
     "output_type": "stream",
     "text": [
      "The number of parameters for bert-base-cased is : 108310272\n"
     ]
    }
   ],
   "source": [
    "from transformers import AutoModel, AutoTokenizer\n",
    "import torch\n",
    "\n",
    "# Two of the checkpoints that I will ususally use with BERT are BERT base cased-\n",
    "# and BERT base uncased.\n",
    "\n",
    "# BERT base cased means that I distinguish between upper and lower case words.\n",
    "# BERT base uncased means that I don't.\n",
    "\n",
    "def get_model_size(checkpoint='bert-base-cased'):\n",
    "  '''\n",
    "  Usage: \n",
    "      checkpoint - this is NLP model with its configuration and its associated weights\n",
    "      returns the size of the NLP model I want to determine\n",
    "  '''\n",
    "  \n",
    "  model = AutoModel.from_pretrained(checkpoint)\n",
    "  tokenizer = AutoTokenizer.from_pretrained(checkpoint)\n",
    "  num_params = 0\n",
    "  \n",
    "  return sum(torch.numel(param) for param in model.parameters())\n",
    "\n",
    "checkpoint='bert-base-cased'\n",
    "print(f\"The number of parameters for {checkpoint} is : {get_model_size(checkpoint)}\")"
   ]
  },
  {
   "cell_type": "code",
   "execution_count": 2,
   "metadata": {},
   "outputs": [
    {
     "data": {
      "text/plain": [
       "432"
      ]
     },
     "execution_count": 2,
     "metadata": {},
     "output_type": "execute_result"
    }
   ],
   "source": [
    "# 2. If I know the number of parameters for a model, how might I be able to determine how much memory is required when running a model inference? \n",
    "# (Each parameter is represented as a single precision floating point number)\n",
    "\n",
    "# Because each of these parameters is represented as precision floating point numbers,-\n",
    "# this means they require 4 bytes. \n",
    "\n",
    "# So if I do 4 times the number of parameters (108 MILLION), this will give me an approximate value of the size of the model.\n",
    "\n",
    "# This means I would require approximately 432 megabytes of RAM. Which is half a gig of RAM.\n",
    "4 * 108"
   ]
  },
  {
   "cell_type": "code",
   "execution_count": 3,
   "metadata": {},
   "outputs": [
    {
     "data": {
      "text/plain": [
       "700000"
      ]
     },
     "execution_count": 3,
     "metadata": {},
     "output_type": "execute_result"
    }
   ],
   "source": [
    "# 3. If I wanted to run a GPT-3 inference. How much RAM would my infrastructure require.\n",
    "175000 * 4"
   ]
  },
  {
   "cell_type": "code",
   "execution_count": null,
   "metadata": {},
   "outputs": [],
   "source": []
  }
 ],
 "metadata": {
  "kernelspec": {
   "display_name": "NLP-env",
   "language": "python",
   "name": "python3"
  },
  "language_info": {
   "codemirror_mode": {
    "name": "ipython",
    "version": 3
   },
   "file_extension": ".py",
   "mimetype": "text/x-python",
   "name": "python",
   "nbconvert_exporter": "python",
   "pygments_lexer": "ipython3",
   "version": "3.8.5"
  },
  "orig_nbformat": 4,
  "vscode": {
   "interpreter": {
    "hash": "1bb4f339b974377a4014a725290bb918fe6e27151f1a13a44d796dcfe5250c51"
   }
  }
 },
 "nbformat": 4,
 "nbformat_minor": 2
}
