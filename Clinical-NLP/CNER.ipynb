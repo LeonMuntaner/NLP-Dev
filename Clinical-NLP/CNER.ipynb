{
 "cells": [
  {
   "attachments": {},
   "cell_type": "markdown",
   "metadata": {},
   "source": [
    "# Clinical Named Entity Recognition (CNER):\n",
    "* Medical NLP task\n",
    "* Extracts named entities in clinical narratives\n",
    "* Analyze and categorize important concepts into predefined categories\n",
    "\n",
    "How is CNER different from NER?\n",
    "\n",
    "The use of synonyms is common in clinical narratives. For example, cardiac arrest, cardiac infraction, and heart attack could be used interchangeably.\n",
    "\n",
    "* Variability in describing the same entities\n",
    "* Nested entities\n",
    "* Domain-specific training data and expert annotation\n",
    "(If I am training a custom clinical named entity recognition model, because the domain is specific, only expertts can be annotators.)\n",
    "\n",
    "Clinical Named Entities:\n",
    "\n",
    "Depending on the use case, there are many clinical named entities that I can use. Either pre-trained or custom models.\n",
    "\n",
    "Some of these are:\n",
    "* Medication\n",
    "* Disease\n",
    "* Symptoms\n",
    "* Adverse drug reaction\n",
    "* Anatomy\n",
    "* Duration\n",
    "* Gene\n",
    "* Specialty\n",
    "* Lab tests\n",
    "* Route of administration \n",
    "\n",
    "Machine Learning Algorithms:\n",
    "* The ML algorithms used for clinical named entity recognition can be supervised or unsupervised\n",
    "* Supervised = Training data is labeled \n",
    "* Unsupervised = Training data is not labeled \n",
    "* The supervised approuch is more prominenet in real life."
   ]
  },
  {
   "attachments": {},
   "cell_type": "markdown",
   "metadata": {},
   "source": [
    "### Central Principles\n",
    "\n",
    "Key things to remeber about clinical named entity recognition are:\n",
    "* It is a token classification task, where I am assigning entities to different classes \n",
    "* In my context, the entities are clinical or biomedical.\n",
    "* Clinical info, collection, mining, and retrieval.\n",
    "\n",
    "### Practical Uses\n",
    "\n",
    "* Extraction of entities such a genes and biomarkers.\n",
    "* Entity recognition for mapping into medical knowledge bases\n",
    "* Pattern analysis in electronic health records\n",
    "* Detection of medication names\n",
    "* Entity extraction as preprocessing for other tasks"
   ]
  },
  {
   "attachments": {},
   "cell_type": "markdown",
   "metadata": {},
   "source": [
    "Sample text is a snippet from a scientific case report on Artificial Hypoglycemia\n",
    "\n",
    "Pre-Trained models used are from the scispaCy library:\n",
    "* pip install https://s3-us-west-2.amazonaws.com/ai2-s2-scispacy/releases/v0.5.1/en_core_sci_scibert-0.5.1.tar.gz\n",
    "* pip install https://s3-us-west-2.amazonaws.com/ai2-s2-scispacy/releases/v0.5.1/en_ner_jnlpba_md-0.5.1.tar.gz\n",
    "* pip install https://s3-us-west-2.amazonaws.com/ai2-s2-scispacy/releases/v0.5.1/en_ner_bc5cdr_md-0.5.1.tar.gz\n",
    "* pip install https://s3-us-west-2.amazonaws.com/ai2-s2-scispacy/releases/v0.5.1/en_ner_bionlp13cg_md-0.5.1.tar.gz\n",
    "* pip install https://s3-us-west-2.amazonaws.com/ai2-s2-scispacy/releases/v0.5.1/en_core_sci_md-0.5.1.tar.gz"
   ]
  },
  {
   "cell_type": "code",
   "execution_count": 1,
   "metadata": {},
   "outputs": [
    {
     "name": "stderr",
     "output_type": "stream",
     "text": [
      "c:\\Users\\muntanerl2\\Anaconda3\\envs\\NLP-env\\lib\\site-packages\\tqdm\\auto.py:22: TqdmWarning: IProgress not found. Please update jupyter and ipywidgets. See https://ipywidgets.readthedocs.io/en/stable/user_install.html\n",
      "  from .autonotebook import tqdm as notebook_tqdm\n"
     ]
    }
   ],
   "source": [
    "import scispacy\n",
    "import spacy\n",
    "from spacy import displacy\n",
    "import en_core_sci_scibert\n",
    "import en_ner_jnlpba_md\n",
    "import en_ner_bc5cdr_md\n",
    "import en_ner_bionlp13cg_md\n",
    "from pprint import pprint\n",
    "import pandas as pd"
   ]
  },
  {
   "cell_type": "code",
   "execution_count": 2,
   "metadata": {},
   "outputs": [],
   "source": [
    "# Saving my sample data into a variable called case_report \n",
    "case_report = \"\"\"Background: Hypoglycemia is uncommon in people who are not being treated for diabetes mellitus and, when present, the differential diagnosis is broad. \n",
    "Artifactual hypoglycemia describes discrepancy between low capillary and normal plasma glucose levels regardless of symptoms and should be considered in patients with Raynaud’s phenomenon.\n",
    "Case Presentation: A 46-year-old female patient with a history of a sleeve gastrectomy started complaining about episodes of lipothymias preceded by sweating, nausea, and dizziness. \n",
    "During one of these episodes, a capillary blood glucose was obtained with a value of 24 mg/dl. She had multiple emergency admissions with low-capillary glycemia. \n",
    "An exhaustive investigation for possible causes of hypoglycemia was made for 18 months. \n",
    "The 72h fasting test was negative for hypoglycemia. A Raynaud’s phenomenon was identified during one appointment.\n",
    "Conclusion: Artifactual hypoglycemia has been described in various conditions including Raynaud’s phenomenon, peripheral arterial disease, Eisenmenger syndrome, acrocyanosis, or hypothermia. \n",
    "With this case report, we want to reinforce the importance of being aware of this diagnosis to prevent anxiety, unnecessary treatment, and diagnostic tests.\"\"\""
   ]
  },
  {
   "cell_type": "code",
   "execution_count": 3,
   "metadata": {},
   "outputs": [],
   "source": [
    "# Since I will be experimenting with up to 4 pre-trained models, I will make a function that-\n",
    "# takes the model name, document as type string, color options.\n",
    "\n",
    "def display_entities(model, document, color_options):\n",
    "    \"\"\"\n",
    "    This function displays word entities\n",
    "\n",
    "    Parameters:\n",
    "        model (module): A pre-trained model from ScispaCy\n",
    "        document (str): Document to be procesed  \n",
    "        color_options (dict): Dictionary of entities and colors to be rendered in display image\n",
    "    \n",
    "    Returns: Image rendering and list of named/un-named word entities and entity labels\n",
    "    \"\"\"\n",
    "    \n",
    "    nlp = model.load()\n",
    "    doc = nlp(document)\n",
    "    displacy_image = displacy.render(doc, jupyter=True, style='ent', options=color_options)\n",
    "    entity_and_label = pprint(set([(X.text, X.label_) for X in doc.ents]))\n",
    "    \n",
    "    return displacy_image, entity_and_label"
   ]
  },
  {
   "cell_type": "code",
   "execution_count": 4,
   "metadata": {},
   "outputs": [],
   "source": [
    "# The viz requires me to set the colors for the entities\n",
    "colors = {\"entity\": \"yellow\"}\n",
    "color_options = {\"ents\": [\"Entity\"], \"colors\": colors}"
   ]
  },
  {
   "cell_type": "code",
   "execution_count": 5,
   "metadata": {},
   "outputs": [
    {
     "name": "stderr",
     "output_type": "stream",
     "text": [
      "c:\\Users\\muntanerl2\\Anaconda3\\envs\\NLP-env\\lib\\site-packages\\torch\\amp\\autocast_mode.py:202: UserWarning: User provided device_type of 'cuda', but CUDA is not available. Disabling\n",
      "  warnings.warn('User provided device_type of \\'cuda\\', but CUDA is not available. Disabling')\n"
     ]
    },
    {
     "data": {
      "text/html": [
       "<span class=\"tex2jax_ignore\"><div class=\"entities\" style=\"line-height: 2.5; direction: ltr\">Background: \n",
       "<mark class=\"entity\" style=\"background: yellow; padding: 0.45em 0.6em; margin: 0 0.25em; line-height: 1; border-radius: 0.35em;\">\n",
       "    Hypoglycemia\n",
       "    <span style=\"font-size: 0.8em; font-weight: bold; line-height: 1; border-radius: 0.35em; vertical-align: middle; margin-left: 0.5rem\">ENTITY</span>\n",
       "</mark>\n",
       " is uncommon in \n",
       "<mark class=\"entity\" style=\"background: yellow; padding: 0.45em 0.6em; margin: 0 0.25em; line-height: 1; border-radius: 0.35em;\">\n",
       "    people\n",
       "    <span style=\"font-size: 0.8em; font-weight: bold; line-height: 1; border-radius: 0.35em; vertical-align: middle; margin-left: 0.5rem\">ENTITY</span>\n",
       "</mark>\n",
       " who are not being \n",
       "<mark class=\"entity\" style=\"background: yellow; padding: 0.45em 0.6em; margin: 0 0.25em; line-height: 1; border-radius: 0.35em;\">\n",
       "    treated\n",
       "    <span style=\"font-size: 0.8em; font-weight: bold; line-height: 1; border-radius: 0.35em; vertical-align: middle; margin-left: 0.5rem\">ENTITY</span>\n",
       "</mark>\n",
       " for \n",
       "<mark class=\"entity\" style=\"background: yellow; padding: 0.45em 0.6em; margin: 0 0.25em; line-height: 1; border-radius: 0.35em;\">\n",
       "    diabetes mellitus\n",
       "    <span style=\"font-size: 0.8em; font-weight: bold; line-height: 1; border-radius: 0.35em; vertical-align: middle; margin-left: 0.5rem\">ENTITY</span>\n",
       "</mark>\n",
       " and, when present, the \n",
       "<mark class=\"entity\" style=\"background: yellow; padding: 0.45em 0.6em; margin: 0 0.25em; line-height: 1; border-radius: 0.35em;\">\n",
       "    differential diagnosis\n",
       "    <span style=\"font-size: 0.8em; font-weight: bold; line-height: 1; border-radius: 0.35em; vertical-align: middle; margin-left: 0.5rem\">ENTITY</span>\n",
       "</mark>\n",
       " is broad. </br>\n",
       "<mark class=\"entity\" style=\"background: yellow; padding: 0.45em 0.6em; margin: 0 0.25em; line-height: 1; border-radius: 0.35em;\">\n",
       "    Artifactual\n",
       "    <span style=\"font-size: 0.8em; font-weight: bold; line-height: 1; border-radius: 0.35em; vertical-align: middle; margin-left: 0.5rem\">ENTITY</span>\n",
       "</mark>\n",
       " \n",
       "<mark class=\"entity\" style=\"background: yellow; padding: 0.45em 0.6em; margin: 0 0.25em; line-height: 1; border-radius: 0.35em;\">\n",
       "    hypoglycemia\n",
       "    <span style=\"font-size: 0.8em; font-weight: bold; line-height: 1; border-radius: 0.35em; vertical-align: middle; margin-left: 0.5rem\">ENTITY</span>\n",
       "</mark>\n",
       " describes \n",
       "<mark class=\"entity\" style=\"background: yellow; padding: 0.45em 0.6em; margin: 0 0.25em; line-height: 1; border-radius: 0.35em;\">\n",
       "    discrepancy\n",
       "    <span style=\"font-size: 0.8em; font-weight: bold; line-height: 1; border-radius: 0.35em; vertical-align: middle; margin-left: 0.5rem\">ENTITY</span>\n",
       "</mark>\n",
       " between \n",
       "<mark class=\"entity\" style=\"background: yellow; padding: 0.45em 0.6em; margin: 0 0.25em; line-height: 1; border-radius: 0.35em;\">\n",
       "    low capillary\n",
       "    <span style=\"font-size: 0.8em; font-weight: bold; line-height: 1; border-radius: 0.35em; vertical-align: middle; margin-left: 0.5rem\">ENTITY</span>\n",
       "</mark>\n",
       " and normal \n",
       "<mark class=\"entity\" style=\"background: yellow; padding: 0.45em 0.6em; margin: 0 0.25em; line-height: 1; border-radius: 0.35em;\">\n",
       "    plasma glucose\n",
       "    <span style=\"font-size: 0.8em; font-weight: bold; line-height: 1; border-radius: 0.35em; vertical-align: middle; margin-left: 0.5rem\">ENTITY</span>\n",
       "</mark>\n",
       " levels regardless of \n",
       "<mark class=\"entity\" style=\"background: yellow; padding: 0.45em 0.6em; margin: 0 0.25em; line-height: 1; border-radius: 0.35em;\">\n",
       "    symptoms\n",
       "    <span style=\"font-size: 0.8em; font-weight: bold; line-height: 1; border-radius: 0.35em; vertical-align: middle; margin-left: 0.5rem\">ENTITY</span>\n",
       "</mark>\n",
       " and should be considered in \n",
       "<mark class=\"entity\" style=\"background: yellow; padding: 0.45em 0.6em; margin: 0 0.25em; line-height: 1; border-radius: 0.35em;\">\n",
       "    patients\n",
       "    <span style=\"font-size: 0.8em; font-weight: bold; line-height: 1; border-radius: 0.35em; vertical-align: middle; margin-left: 0.5rem\">ENTITY</span>\n",
       "</mark>\n",
       " with \n",
       "<mark class=\"entity\" style=\"background: yellow; padding: 0.45em 0.6em; margin: 0 0.25em; line-height: 1; border-radius: 0.35em;\">\n",
       "    Raynaud’s phenomenon\n",
       "    <span style=\"font-size: 0.8em; font-weight: bold; line-height: 1; border-radius: 0.35em; vertical-align: middle; margin-left: 0.5rem\">ENTITY</span>\n",
       "</mark>\n",
       ".</br>Case Presentation: A 46-year-old \n",
       "<mark class=\"entity\" style=\"background: yellow; padding: 0.45em 0.6em; margin: 0 0.25em; line-height: 1; border-radius: 0.35em;\">\n",
       "    female\n",
       "    <span style=\"font-size: 0.8em; font-weight: bold; line-height: 1; border-radius: 0.35em; vertical-align: middle; margin-left: 0.5rem\">ENTITY</span>\n",
       "</mark>\n",
       " \n",
       "<mark class=\"entity\" style=\"background: yellow; padding: 0.45em 0.6em; margin: 0 0.25em; line-height: 1; border-radius: 0.35em;\">\n",
       "    patient\n",
       "    <span style=\"font-size: 0.8em; font-weight: bold; line-height: 1; border-radius: 0.35em; vertical-align: middle; margin-left: 0.5rem\">ENTITY</span>\n",
       "</mark>\n",
       " with a \n",
       "<mark class=\"entity\" style=\"background: yellow; padding: 0.45em 0.6em; margin: 0 0.25em; line-height: 1; border-radius: 0.35em;\">\n",
       "    history\n",
       "    <span style=\"font-size: 0.8em; font-weight: bold; line-height: 1; border-radius: 0.35em; vertical-align: middle; margin-left: 0.5rem\">ENTITY</span>\n",
       "</mark>\n",
       " of a \n",
       "<mark class=\"entity\" style=\"background: yellow; padding: 0.45em 0.6em; margin: 0 0.25em; line-height: 1; border-radius: 0.35em;\">\n",
       "    sleeve gastrectomy\n",
       "    <span style=\"font-size: 0.8em; font-weight: bold; line-height: 1; border-radius: 0.35em; vertical-align: middle; margin-left: 0.5rem\">ENTITY</span>\n",
       "</mark>\n",
       " \n",
       "<mark class=\"entity\" style=\"background: yellow; padding: 0.45em 0.6em; margin: 0 0.25em; line-height: 1; border-radius: 0.35em;\">\n",
       "    started\n",
       "    <span style=\"font-size: 0.8em; font-weight: bold; line-height: 1; border-radius: 0.35em; vertical-align: middle; margin-left: 0.5rem\">ENTITY</span>\n",
       "</mark>\n",
       " \n",
       "<mark class=\"entity\" style=\"background: yellow; padding: 0.45em 0.6em; margin: 0 0.25em; line-height: 1; border-radius: 0.35em;\">\n",
       "    complaining\n",
       "    <span style=\"font-size: 0.8em; font-weight: bold; line-height: 1; border-radius: 0.35em; vertical-align: middle; margin-left: 0.5rem\">ENTITY</span>\n",
       "</mark>\n",
       " about \n",
       "<mark class=\"entity\" style=\"background: yellow; padding: 0.45em 0.6em; margin: 0 0.25em; line-height: 1; border-radius: 0.35em;\">\n",
       "    episodes\n",
       "    <span style=\"font-size: 0.8em; font-weight: bold; line-height: 1; border-radius: 0.35em; vertical-align: middle; margin-left: 0.5rem\">ENTITY</span>\n",
       "</mark>\n",
       " of \n",
       "<mark class=\"entity\" style=\"background: yellow; padding: 0.45em 0.6em; margin: 0 0.25em; line-height: 1; border-radius: 0.35em;\">\n",
       "    lipothymias\n",
       "    <span style=\"font-size: 0.8em; font-weight: bold; line-height: 1; border-radius: 0.35em; vertical-align: middle; margin-left: 0.5rem\">ENTITY</span>\n",
       "</mark>\n",
       " preceded by \n",
       "<mark class=\"entity\" style=\"background: yellow; padding: 0.45em 0.6em; margin: 0 0.25em; line-height: 1; border-radius: 0.35em;\">\n",
       "    sweating\n",
       "    <span style=\"font-size: 0.8em; font-weight: bold; line-height: 1; border-radius: 0.35em; vertical-align: middle; margin-left: 0.5rem\">ENTITY</span>\n",
       "</mark>\n",
       ", \n",
       "<mark class=\"entity\" style=\"background: yellow; padding: 0.45em 0.6em; margin: 0 0.25em; line-height: 1; border-radius: 0.35em;\">\n",
       "    nausea\n",
       "    <span style=\"font-size: 0.8em; font-weight: bold; line-height: 1; border-radius: 0.35em; vertical-align: middle; margin-left: 0.5rem\">ENTITY</span>\n",
       "</mark>\n",
       ", and \n",
       "<mark class=\"entity\" style=\"background: yellow; padding: 0.45em 0.6em; margin: 0 0.25em; line-height: 1; border-radius: 0.35em;\">\n",
       "    dizziness\n",
       "    <span style=\"font-size: 0.8em; font-weight: bold; line-height: 1; border-radius: 0.35em; vertical-align: middle; margin-left: 0.5rem\">ENTITY</span>\n",
       "</mark>\n",
       ". </br>During one of these \n",
       "<mark class=\"entity\" style=\"background: yellow; padding: 0.45em 0.6em; margin: 0 0.25em; line-height: 1; border-radius: 0.35em;\">\n",
       "    episodes\n",
       "    <span style=\"font-size: 0.8em; font-weight: bold; line-height: 1; border-radius: 0.35em; vertical-align: middle; margin-left: 0.5rem\">ENTITY</span>\n",
       "</mark>\n",
       ", a \n",
       "<mark class=\"entity\" style=\"background: yellow; padding: 0.45em 0.6em; margin: 0 0.25em; line-height: 1; border-radius: 0.35em;\">\n",
       "    capillary blood glucose\n",
       "    <span style=\"font-size: 0.8em; font-weight: bold; line-height: 1; border-radius: 0.35em; vertical-align: middle; margin-left: 0.5rem\">ENTITY</span>\n",
       "</mark>\n",
       " was obtained with a value of 24 mg/dl. She had multiple \n",
       "<mark class=\"entity\" style=\"background: yellow; padding: 0.45em 0.6em; margin: 0 0.25em; line-height: 1; border-radius: 0.35em;\">\n",
       "    emergency admissions\n",
       "    <span style=\"font-size: 0.8em; font-weight: bold; line-height: 1; border-radius: 0.35em; vertical-align: middle; margin-left: 0.5rem\">ENTITY</span>\n",
       "</mark>\n",
       " with \n",
       "<mark class=\"entity\" style=\"background: yellow; padding: 0.45em 0.6em; margin: 0 0.25em; line-height: 1; border-radius: 0.35em;\">\n",
       "    low-capillary glycemia\n",
       "    <span style=\"font-size: 0.8em; font-weight: bold; line-height: 1; border-radius: 0.35em; vertical-align: middle; margin-left: 0.5rem\">ENTITY</span>\n",
       "</mark>\n",
       ". </br>An \n",
       "<mark class=\"entity\" style=\"background: yellow; padding: 0.45em 0.6em; margin: 0 0.25em; line-height: 1; border-radius: 0.35em;\">\n",
       "    exhaustive\n",
       "    <span style=\"font-size: 0.8em; font-weight: bold; line-height: 1; border-radius: 0.35em; vertical-align: middle; margin-left: 0.5rem\">ENTITY</span>\n",
       "</mark>\n",
       " \n",
       "<mark class=\"entity\" style=\"background: yellow; padding: 0.45em 0.6em; margin: 0 0.25em; line-height: 1; border-radius: 0.35em;\">\n",
       "    investigation\n",
       "    <span style=\"font-size: 0.8em; font-weight: bold; line-height: 1; border-radius: 0.35em; vertical-align: middle; margin-left: 0.5rem\">ENTITY</span>\n",
       "</mark>\n",
       " for possible causes of \n",
       "<mark class=\"entity\" style=\"background: yellow; padding: 0.45em 0.6em; margin: 0 0.25em; line-height: 1; border-radius: 0.35em;\">\n",
       "    hypoglycemia\n",
       "    <span style=\"font-size: 0.8em; font-weight: bold; line-height: 1; border-radius: 0.35em; vertical-align: middle; margin-left: 0.5rem\">ENTITY</span>\n",
       "</mark>\n",
       " was made for 18 \n",
       "<mark class=\"entity\" style=\"background: yellow; padding: 0.45em 0.6em; margin: 0 0.25em; line-height: 1; border-radius: 0.35em;\">\n",
       "    months\n",
       "    <span style=\"font-size: 0.8em; font-weight: bold; line-height: 1; border-radius: 0.35em; vertical-align: middle; margin-left: 0.5rem\">ENTITY</span>\n",
       "</mark>\n",
       ". </br>The 72h \n",
       "<mark class=\"entity\" style=\"background: yellow; padding: 0.45em 0.6em; margin: 0 0.25em; line-height: 1; border-radius: 0.35em;\">\n",
       "    fasting test\n",
       "    <span style=\"font-size: 0.8em; font-weight: bold; line-height: 1; border-radius: 0.35em; vertical-align: middle; margin-left: 0.5rem\">ENTITY</span>\n",
       "</mark>\n",
       " was \n",
       "<mark class=\"entity\" style=\"background: yellow; padding: 0.45em 0.6em; margin: 0 0.25em; line-height: 1; border-radius: 0.35em;\">\n",
       "    negative\n",
       "    <span style=\"font-size: 0.8em; font-weight: bold; line-height: 1; border-radius: 0.35em; vertical-align: middle; margin-left: 0.5rem\">ENTITY</span>\n",
       "</mark>\n",
       " for \n",
       "<mark class=\"entity\" style=\"background: yellow; padding: 0.45em 0.6em; margin: 0 0.25em; line-height: 1; border-radius: 0.35em;\">\n",
       "    hypoglycemia\n",
       "    <span style=\"font-size: 0.8em; font-weight: bold; line-height: 1; border-radius: 0.35em; vertical-align: middle; margin-left: 0.5rem\">ENTITY</span>\n",
       "</mark>\n",
       ". A Raynaud’s \n",
       "<mark class=\"entity\" style=\"background: yellow; padding: 0.45em 0.6em; margin: 0 0.25em; line-height: 1; border-radius: 0.35em;\">\n",
       "    phenomenon\n",
       "    <span style=\"font-size: 0.8em; font-weight: bold; line-height: 1; border-radius: 0.35em; vertical-align: middle; margin-left: 0.5rem\">ENTITY</span>\n",
       "</mark>\n",
       " was \n",
       "<mark class=\"entity\" style=\"background: yellow; padding: 0.45em 0.6em; margin: 0 0.25em; line-height: 1; border-radius: 0.35em;\">\n",
       "    identified\n",
       "    <span style=\"font-size: 0.8em; font-weight: bold; line-height: 1; border-radius: 0.35em; vertical-align: middle; margin-left: 0.5rem\">ENTITY</span>\n",
       "</mark>\n",
       " during one \n",
       "<mark class=\"entity\" style=\"background: yellow; padding: 0.45em 0.6em; margin: 0 0.25em; line-height: 1; border-radius: 0.35em;\">\n",
       "    appointment\n",
       "    <span style=\"font-size: 0.8em; font-weight: bold; line-height: 1; border-radius: 0.35em; vertical-align: middle; margin-left: 0.5rem\">ENTITY</span>\n",
       "</mark>\n",
       ".</br>Conclusion: \n",
       "<mark class=\"entity\" style=\"background: yellow; padding: 0.45em 0.6em; margin: 0 0.25em; line-height: 1; border-radius: 0.35em;\">\n",
       "    Artifactual\n",
       "    <span style=\"font-size: 0.8em; font-weight: bold; line-height: 1; border-radius: 0.35em; vertical-align: middle; margin-left: 0.5rem\">ENTITY</span>\n",
       "</mark>\n",
       " \n",
       "<mark class=\"entity\" style=\"background: yellow; padding: 0.45em 0.6em; margin: 0 0.25em; line-height: 1; border-radius: 0.35em;\">\n",
       "    hypoglycemia\n",
       "    <span style=\"font-size: 0.8em; font-weight: bold; line-height: 1; border-radius: 0.35em; vertical-align: middle; margin-left: 0.5rem\">ENTITY</span>\n",
       "</mark>\n",
       " has been described in various \n",
       "<mark class=\"entity\" style=\"background: yellow; padding: 0.45em 0.6em; margin: 0 0.25em; line-height: 1; border-radius: 0.35em;\">\n",
       "    conditions\n",
       "    <span style=\"font-size: 0.8em; font-weight: bold; line-height: 1; border-radius: 0.35em; vertical-align: middle; margin-left: 0.5rem\">ENTITY</span>\n",
       "</mark>\n",
       " including \n",
       "<mark class=\"entity\" style=\"background: yellow; padding: 0.45em 0.6em; margin: 0 0.25em; line-height: 1; border-radius: 0.35em;\">\n",
       "    Raynaud’s phenomenon\n",
       "    <span style=\"font-size: 0.8em; font-weight: bold; line-height: 1; border-radius: 0.35em; vertical-align: middle; margin-left: 0.5rem\">ENTITY</span>\n",
       "</mark>\n",
       ", \n",
       "<mark class=\"entity\" style=\"background: yellow; padding: 0.45em 0.6em; margin: 0 0.25em; line-height: 1; border-radius: 0.35em;\">\n",
       "    peripheral arterial disease\n",
       "    <span style=\"font-size: 0.8em; font-weight: bold; line-height: 1; border-radius: 0.35em; vertical-align: middle; margin-left: 0.5rem\">ENTITY</span>\n",
       "</mark>\n",
       ", \n",
       "<mark class=\"entity\" style=\"background: yellow; padding: 0.45em 0.6em; margin: 0 0.25em; line-height: 1; border-radius: 0.35em;\">\n",
       "    Eisenmenger syndrome\n",
       "    <span style=\"font-size: 0.8em; font-weight: bold; line-height: 1; border-radius: 0.35em; vertical-align: middle; margin-left: 0.5rem\">ENTITY</span>\n",
       "</mark>\n",
       ", \n",
       "<mark class=\"entity\" style=\"background: yellow; padding: 0.45em 0.6em; margin: 0 0.25em; line-height: 1; border-radius: 0.35em;\">\n",
       "    acrocyanosis\n",
       "    <span style=\"font-size: 0.8em; font-weight: bold; line-height: 1; border-radius: 0.35em; vertical-align: middle; margin-left: 0.5rem\">ENTITY</span>\n",
       "</mark>\n",
       ", or \n",
       "<mark class=\"entity\" style=\"background: yellow; padding: 0.45em 0.6em; margin: 0 0.25em; line-height: 1; border-radius: 0.35em;\">\n",
       "    hypothermia\n",
       "    <span style=\"font-size: 0.8em; font-weight: bold; line-height: 1; border-radius: 0.35em; vertical-align: middle; margin-left: 0.5rem\">ENTITY</span>\n",
       "</mark>\n",
       ". </br>With this \n",
       "<mark class=\"entity\" style=\"background: yellow; padding: 0.45em 0.6em; margin: 0 0.25em; line-height: 1; border-radius: 0.35em;\">\n",
       "    case report\n",
       "    <span style=\"font-size: 0.8em; font-weight: bold; line-height: 1; border-radius: 0.35em; vertical-align: middle; margin-left: 0.5rem\">ENTITY</span>\n",
       "</mark>\n",
       ", we want to reinforce the importance of being aware of this \n",
       "<mark class=\"entity\" style=\"background: yellow; padding: 0.45em 0.6em; margin: 0 0.25em; line-height: 1; border-radius: 0.35em;\">\n",
       "    diagnosis\n",
       "    <span style=\"font-size: 0.8em; font-weight: bold; line-height: 1; border-radius: 0.35em; vertical-align: middle; margin-left: 0.5rem\">ENTITY</span>\n",
       "</mark>\n",
       " to \n",
       "<mark class=\"entity\" style=\"background: yellow; padding: 0.45em 0.6em; margin: 0 0.25em; line-height: 1; border-radius: 0.35em;\">\n",
       "    prevent\n",
       "    <span style=\"font-size: 0.8em; font-weight: bold; line-height: 1; border-radius: 0.35em; vertical-align: middle; margin-left: 0.5rem\">ENTITY</span>\n",
       "</mark>\n",
       " \n",
       "<mark class=\"entity\" style=\"background: yellow; padding: 0.45em 0.6em; margin: 0 0.25em; line-height: 1; border-radius: 0.35em;\">\n",
       "    anxiety\n",
       "    <span style=\"font-size: 0.8em; font-weight: bold; line-height: 1; border-radius: 0.35em; vertical-align: middle; margin-left: 0.5rem\">ENTITY</span>\n",
       "</mark>\n",
       ", \n",
       "<mark class=\"entity\" style=\"background: yellow; padding: 0.45em 0.6em; margin: 0 0.25em; line-height: 1; border-radius: 0.35em;\">\n",
       "    unnecessary treatment\n",
       "    <span style=\"font-size: 0.8em; font-weight: bold; line-height: 1; border-radius: 0.35em; vertical-align: middle; margin-left: 0.5rem\">ENTITY</span>\n",
       "</mark>\n",
       ", and \n",
       "<mark class=\"entity\" style=\"background: yellow; padding: 0.45em 0.6em; margin: 0 0.25em; line-height: 1; border-radius: 0.35em;\">\n",
       "    diagnostic tests\n",
       "    <span style=\"font-size: 0.8em; font-weight: bold; line-height: 1; border-radius: 0.35em; vertical-align: middle; margin-left: 0.5rem\">ENTITY</span>\n",
       "</mark>\n",
       ".</div></span>"
      ],
      "text/plain": [
       "<IPython.core.display.HTML object>"
      ]
     },
     "metadata": {},
     "output_type": "display_data"
    },
    {
     "name": "stdout",
     "output_type": "stream",
     "text": [
      "{('Artifactual', 'ENTITY'),\n",
      " ('Eisenmenger syndrome', 'ENTITY'),\n",
      " ('Hypoglycemia', 'ENTITY'),\n",
      " ('Raynaud’s phenomenon', 'ENTITY'),\n",
      " ('acrocyanosis', 'ENTITY'),\n",
      " ('anxiety', 'ENTITY'),\n",
      " ('appointment', 'ENTITY'),\n",
      " ('capillary blood glucose', 'ENTITY'),\n",
      " ('case report', 'ENTITY'),\n",
      " ('complaining', 'ENTITY'),\n",
      " ('conditions', 'ENTITY'),\n",
      " ('diabetes mellitus', 'ENTITY'),\n",
      " ('diagnosis', 'ENTITY'),\n",
      " ('diagnostic tests', 'ENTITY'),\n",
      " ('differential diagnosis', 'ENTITY'),\n",
      " ('discrepancy', 'ENTITY'),\n",
      " ('dizziness', 'ENTITY'),\n",
      " ('emergency admissions', 'ENTITY'),\n",
      " ('episodes', 'ENTITY'),\n",
      " ('exhaustive', 'ENTITY'),\n",
      " ('fasting test', 'ENTITY'),\n",
      " ('female', 'ENTITY'),\n",
      " ('history', 'ENTITY'),\n",
      " ('hypoglycemia', 'ENTITY'),\n",
      " ('hypothermia', 'ENTITY'),\n",
      " ('identified', 'ENTITY'),\n",
      " ('investigation', 'ENTITY'),\n",
      " ('lipothymias', 'ENTITY'),\n",
      " ('low capillary', 'ENTITY'),\n",
      " ('low-capillary glycemia', 'ENTITY'),\n",
      " ('months', 'ENTITY'),\n",
      " ('nausea', 'ENTITY'),\n",
      " ('negative', 'ENTITY'),\n",
      " ('patient', 'ENTITY'),\n",
      " ('patients', 'ENTITY'),\n",
      " ('people', 'ENTITY'),\n",
      " ('peripheral arterial disease', 'ENTITY'),\n",
      " ('phenomenon', 'ENTITY'),\n",
      " ('plasma glucose', 'ENTITY'),\n",
      " ('prevent', 'ENTITY'),\n",
      " ('sleeve gastrectomy', 'ENTITY'),\n",
      " ('started', 'ENTITY'),\n",
      " ('sweating', 'ENTITY'),\n",
      " ('symptoms', 'ENTITY'),\n",
      " ('treated', 'ENTITY'),\n",
      " ('unnecessary treatment', 'ENTITY')}\n"
     ]
    },
    {
     "data": {
      "text/plain": [
       "(None, None)"
      ]
     },
     "execution_count": 5,
     "metadata": {},
     "output_type": "execute_result"
    }
   ],
   "source": [
    "# Call the display entities function and pass in the desired model-\n",
    "# the sample data, and the color options.\n",
    "\n",
    "# * This model can detect up to 780,000 scientific entities\n",
    "\n",
    "display_entities(en_core_sci_scibert, case_report, color_options)\n",
    "\n",
    "# Looking at the outut, I can see the words that may be of clinical significance.\n",
    "# Such as: Hypoglycemia, diabetes mellitus, plasma glucose "
   ]
  },
  {
   "cell_type": "code",
   "execution_count": 6,
   "metadata": {},
   "outputs": [],
   "source": [
    "# For the second model I will assign the color options based on the documented entities it-\n",
    "# is portrayed to detect.\n",
    "\n",
    "colors = {\"DNA\": \"yellow\", \"CELL_TYPE\": \"green\", \"CELL_LINE\": \"red\", \"RNA\": \"brown\", \"PROTEIN\": \"pink\"}\n",
    "color_options = {\"ents\": [\"DNA\", \"CELL_TYPE\", \"CELL_LINE\", \"RNA\", \"PROTEIN\"], \"colors\": colors}"
   ]
  },
  {
   "cell_type": "code",
   "execution_count": 7,
   "metadata": {},
   "outputs": [
    {
     "name": "stderr",
     "output_type": "stream",
     "text": [
      "c:\\Users\\muntanerl2\\Anaconda3\\envs\\NLP-env\\lib\\site-packages\\spacy\\displacy\\__init__.py:206: UserWarning: [W006] No entities to visualize found in Doc object. If this is surprising to you, make sure the Doc was processed using a model that supports named entity recognition, and check the `doc.ents` property manually if necessary.\n",
      "  warnings.warn(Warnings.W006)\n"
     ]
    },
    {
     "data": {
      "text/html": [
       "<span class=\"tex2jax_ignore\"><div class=\"entities\" style=\"line-height: 2.5; direction: ltr\">Background: Hypoglycemia is uncommon in people who are not being treated for diabetes mellitus and, when present, the differential diagnosis is broad. </br>Artifactual hypoglycemia describes discrepancy between low capillary and normal plasma glucose levels regardless of symptoms and should be considered in patients with Raynaud’s phenomenon.</br>Case Presentation: A 46-year-old female patient with a history of a sleeve gastrectomy started complaining about episodes of lipothymias preceded by sweating, nausea, and dizziness. </br>During one of these episodes, a capillary blood glucose was obtained with a value of 24 mg/dl. She had multiple emergency admissions with low-capillary glycemia. </br>An exhaustive investigation for possible causes of hypoglycemia was made for 18 months. </br>The 72h fasting test was negative for hypoglycemia. A Raynaud’s phenomenon was identified during one appointment.</br>Conclusion: Artifactual hypoglycemia has been described in various conditions including Raynaud’s phenomenon, peripheral arterial disease, Eisenmenger syndrome, acrocyanosis, or hypothermia. </br>With this case report, we want to reinforce the importance of being aware of this diagnosis to prevent anxiety, unnecessary treatment, and diagnostic tests.</div></span>"
      ],
      "text/plain": [
       "<IPython.core.display.HTML object>"
      ]
     },
     "metadata": {},
     "output_type": "display_data"
    },
    {
     "name": "stdout",
     "output_type": "stream",
     "text": [
      "set()\n"
     ]
    },
    {
     "data": {
      "text/plain": [
       "(None, None)"
      ]
     },
     "execution_count": 7,
     "metadata": {},
     "output_type": "execute_result"
    }
   ],
   "source": [
    "# The model used in this code is going to find entities such as DNA, cell type and protein\n",
    "display_entities(en_ner_jnlpba_md, case_report, color_options)\n",
    "\n",
    "# *This returns no highlighted entities. This means that there are no related entities in the sample text."
   ]
  },
  {
   "cell_type": "code",
   "execution_count": 8,
   "metadata": {},
   "outputs": [],
   "source": [
    "colors = {\"DISEASE\": \"yellow\", \"CHEMICAL\": \"red\"}\n",
    "color_options = {\"ents\": [\"DISEASE\", \"CHEMICAL\"], \"colors\": colors}"
   ]
  },
  {
   "cell_type": "code",
   "execution_count": 9,
   "metadata": {},
   "outputs": [
    {
     "data": {
      "text/html": [
       "<span class=\"tex2jax_ignore\"><div class=\"entities\" style=\"line-height: 2.5; direction: ltr\">Background: \n",
       "<mark class=\"entity\" style=\"background: yellow; padding: 0.45em 0.6em; margin: 0 0.25em; line-height: 1; border-radius: 0.35em;\">\n",
       "    Hypoglycemia\n",
       "    <span style=\"font-size: 0.8em; font-weight: bold; line-height: 1; border-radius: 0.35em; vertical-align: middle; margin-left: 0.5rem\">DISEASE</span>\n",
       "</mark>\n",
       " is uncommon in people who are not being treated for \n",
       "<mark class=\"entity\" style=\"background: yellow; padding: 0.45em 0.6em; margin: 0 0.25em; line-height: 1; border-radius: 0.35em;\">\n",
       "    diabetes mellitus\n",
       "    <span style=\"font-size: 0.8em; font-weight: bold; line-height: 1; border-radius: 0.35em; vertical-align: middle; margin-left: 0.5rem\">DISEASE</span>\n",
       "</mark>\n",
       " and, when present, the differential diagnosis is broad. </br>Artifactual \n",
       "<mark class=\"entity\" style=\"background: yellow; padding: 0.45em 0.6em; margin: 0 0.25em; line-height: 1; border-radius: 0.35em;\">\n",
       "    hypoglycemia\n",
       "    <span style=\"font-size: 0.8em; font-weight: bold; line-height: 1; border-radius: 0.35em; vertical-align: middle; margin-left: 0.5rem\">DISEASE</span>\n",
       "</mark>\n",
       " describes discrepancy between low capillary and normal plasma \n",
       "<mark class=\"entity\" style=\"background: red; padding: 0.45em 0.6em; margin: 0 0.25em; line-height: 1; border-radius: 0.35em;\">\n",
       "    glucose\n",
       "    <span style=\"font-size: 0.8em; font-weight: bold; line-height: 1; border-radius: 0.35em; vertical-align: middle; margin-left: 0.5rem\">CHEMICAL</span>\n",
       "</mark>\n",
       " levels regardless of symptoms and should be considered in patients with Raynaud’s phenomenon.</br>Case Presentation: A 46-year-old female patient with a history of a sleeve gastrectomy started complaining about episodes of \n",
       "<mark class=\"entity\" style=\"background: yellow; padding: 0.45em 0.6em; margin: 0 0.25em; line-height: 1; border-radius: 0.35em;\">\n",
       "    lipothymias\n",
       "    <span style=\"font-size: 0.8em; font-weight: bold; line-height: 1; border-radius: 0.35em; vertical-align: middle; margin-left: 0.5rem\">DISEASE</span>\n",
       "</mark>\n",
       " preceded by sweating, \n",
       "<mark class=\"entity\" style=\"background: yellow; padding: 0.45em 0.6em; margin: 0 0.25em; line-height: 1; border-radius: 0.35em;\">\n",
       "    nausea\n",
       "    <span style=\"font-size: 0.8em; font-weight: bold; line-height: 1; border-radius: 0.35em; vertical-align: middle; margin-left: 0.5rem\">DISEASE</span>\n",
       "</mark>\n",
       ", and \n",
       "<mark class=\"entity\" style=\"background: yellow; padding: 0.45em 0.6em; margin: 0 0.25em; line-height: 1; border-radius: 0.35em;\">\n",
       "    dizziness\n",
       "    <span style=\"font-size: 0.8em; font-weight: bold; line-height: 1; border-radius: 0.35em; vertical-align: middle; margin-left: 0.5rem\">DISEASE</span>\n",
       "</mark>\n",
       ". </br>During one of these episodes, a \n",
       "<mark class=\"entity\" style=\"background: yellow; padding: 0.45em 0.6em; margin: 0 0.25em; line-height: 1; border-radius: 0.35em;\">\n",
       "    capillary blood glucose\n",
       "    <span style=\"font-size: 0.8em; font-weight: bold; line-height: 1; border-radius: 0.35em; vertical-align: middle; margin-left: 0.5rem\">DISEASE</span>\n",
       "</mark>\n",
       " was obtained with a value of 24 mg/dl. She had multiple emergency admissions with low-capillary glycemia. </br>An exhaustive investigation for possible causes of \n",
       "<mark class=\"entity\" style=\"background: yellow; padding: 0.45em 0.6em; margin: 0 0.25em; line-height: 1; border-radius: 0.35em;\">\n",
       "    hypoglycemia\n",
       "    <span style=\"font-size: 0.8em; font-weight: bold; line-height: 1; border-radius: 0.35em; vertical-align: middle; margin-left: 0.5rem\">DISEASE</span>\n",
       "</mark>\n",
       " was made for 18 months. </br>The 72h fasting test was negative for \n",
       "<mark class=\"entity\" style=\"background: yellow; padding: 0.45em 0.6em; margin: 0 0.25em; line-height: 1; border-radius: 0.35em;\">\n",
       "    hypoglycemia\n",
       "    <span style=\"font-size: 0.8em; font-weight: bold; line-height: 1; border-radius: 0.35em; vertical-align: middle; margin-left: 0.5rem\">DISEASE</span>\n",
       "</mark>\n",
       ". A Raynaud’s phenomenon was identified during one appointment.</br>Conclusion: Artifactual \n",
       "<mark class=\"entity\" style=\"background: yellow; padding: 0.45em 0.6em; margin: 0 0.25em; line-height: 1; border-radius: 0.35em;\">\n",
       "    hypoglycemia\n",
       "    <span style=\"font-size: 0.8em; font-weight: bold; line-height: 1; border-radius: 0.35em; vertical-align: middle; margin-left: 0.5rem\">DISEASE</span>\n",
       "</mark>\n",
       " has been described in various conditions including Raynaud’s phenomenon, \n",
       "<mark class=\"entity\" style=\"background: yellow; padding: 0.45em 0.6em; margin: 0 0.25em; line-height: 1; border-radius: 0.35em;\">\n",
       "    peripheral arterial disease\n",
       "    <span style=\"font-size: 0.8em; font-weight: bold; line-height: 1; border-radius: 0.35em; vertical-align: middle; margin-left: 0.5rem\">DISEASE</span>\n",
       "</mark>\n",
       ", \n",
       "<mark class=\"entity\" style=\"background: yellow; padding: 0.45em 0.6em; margin: 0 0.25em; line-height: 1; border-radius: 0.35em;\">\n",
       "    Eisenmenger syndrome\n",
       "    <span style=\"font-size: 0.8em; font-weight: bold; line-height: 1; border-radius: 0.35em; vertical-align: middle; margin-left: 0.5rem\">DISEASE</span>\n",
       "</mark>\n",
       ", \n",
       "<mark class=\"entity\" style=\"background: yellow; padding: 0.45em 0.6em; margin: 0 0.25em; line-height: 1; border-radius: 0.35em;\">\n",
       "    acrocyanosis\n",
       "    <span style=\"font-size: 0.8em; font-weight: bold; line-height: 1; border-radius: 0.35em; vertical-align: middle; margin-left: 0.5rem\">DISEASE</span>\n",
       "</mark>\n",
       ", or \n",
       "<mark class=\"entity\" style=\"background: yellow; padding: 0.45em 0.6em; margin: 0 0.25em; line-height: 1; border-radius: 0.35em;\">\n",
       "    hypothermia\n",
       "    <span style=\"font-size: 0.8em; font-weight: bold; line-height: 1; border-radius: 0.35em; vertical-align: middle; margin-left: 0.5rem\">DISEASE</span>\n",
       "</mark>\n",
       ". </br>With this case report, we want to reinforce the importance of being aware of this diagnosis to prevent \n",
       "<mark class=\"entity\" style=\"background: yellow; padding: 0.45em 0.6em; margin: 0 0.25em; line-height: 1; border-radius: 0.35em;\">\n",
       "    anxiety\n",
       "    <span style=\"font-size: 0.8em; font-weight: bold; line-height: 1; border-radius: 0.35em; vertical-align: middle; margin-left: 0.5rem\">DISEASE</span>\n",
       "</mark>\n",
       ", unnecessary treatment, and diagnostic tests.</div></span>"
      ],
      "text/plain": [
       "<IPython.core.display.HTML object>"
      ]
     },
     "metadata": {},
     "output_type": "display_data"
    },
    {
     "name": "stdout",
     "output_type": "stream",
     "text": [
      "{('Eisenmenger syndrome', 'DISEASE'),\n",
      " ('Hypoglycemia', 'DISEASE'),\n",
      " ('acrocyanosis', 'DISEASE'),\n",
      " ('anxiety', 'DISEASE'),\n",
      " ('capillary blood glucose', 'DISEASE'),\n",
      " ('diabetes mellitus', 'DISEASE'),\n",
      " ('dizziness', 'DISEASE'),\n",
      " ('glucose', 'CHEMICAL'),\n",
      " ('hypoglycemia', 'DISEASE'),\n",
      " ('hypothermia', 'DISEASE'),\n",
      " ('lipothymias', 'DISEASE'),\n",
      " ('nausea', 'DISEASE'),\n",
      " ('peripheral arterial disease', 'DISEASE')}\n"
     ]
    },
    {
     "data": {
      "text/plain": [
       "(None, None)"
      ]
     },
     "execution_count": 9,
     "metadata": {},
     "output_type": "execute_result"
    }
   ],
   "source": [
    "# This model tries to recognize entities that are related to disease or chemical\n",
    "display_entities(en_ner_bc5cdr_md, case_report, color_options)"
   ]
  },
  {
   "cell_type": "code",
   "execution_count": 12,
   "metadata": {},
   "outputs": [],
   "source": [
    "colors = {\n",
    "    \"AMINO_ACID\": \"yellow\",\n",
    "    \"ANATOMICAL_SYSTEM\": \"green\",\n",
    "    \"CANCER\": \"red\",\n",
    "    \"CELL\": \"brown\",\n",
    "    \"CELLULAR_COMPONENT\": \"pink\",\n",
    "    \"DEVELOPING_ANATOMICAL_STRUCTURE\": \"blue\",\n",
    "    \"GENE_OR_GENE_PRODUCT\": \"orange\",\n",
    "    \"IMMATERIAL_ANATOMICAL_ENTITY\": \"lightblue\",\n",
    "    \"MULTI-TISSUE_STRUCTURE\": \"lightgreen\", \n",
    "    \"ORGAN\": \"purple\",\n",
    "    \"ORGANISM\": \"grey\",\n",
    "    \"ORGANISM_SUBDIVISION\": \"Cyan\",\n",
    "    \"ORGANISM_SUBSTANCE\": \"magneta\",\n",
    "    \"PATHOLOGICAL_FORMATION\": \"lilac\",\n",
    "    \"SIMPLE_CHEMICAL\": \"wine\",\n",
    "    \"TISSUE\": \"lemon\"\n",
    "}\n",
    "\n",
    "color_options = {\"ents\": [\"AMINO_ACID\", \"ANATOMICAL_SYSTEM\", \"CANCER\", \"CELL\", \"CELLULAR_COMPONENT\", \"DEVELOPING_ANATOMICAL_STRUCTURE\",\n",
    "                          \"GENE_OR_GENE_PRODUCT\", \"IMMATERIAL_ANATOMICAL_ENTITY\", \"MULTI-TISSUE_STRUCTURE\", \"ORGAN\", \"ORGANISM\", \"ORGANISM_SUBDIVISION\",\n",
    "                          \"ORGANISM_SUBSTANCE\", \"PATHOLOGICAL_FORMATION\", \"SIMPLE_CHEMICAL\", \"TISSUE\"], \"colors\": colors}"
   ]
  },
  {
   "cell_type": "code",
   "execution_count": 13,
   "metadata": {},
   "outputs": [
    {
     "data": {
      "text/html": [
       "<span class=\"tex2jax_ignore\"><div class=\"entities\" style=\"line-height: 2.5; direction: ltr\">Background: Hypoglycemia is uncommon in \n",
       "<mark class=\"entity\" style=\"background: grey; padding: 0.45em 0.6em; margin: 0 0.25em; line-height: 1; border-radius: 0.35em;\">\n",
       "    people\n",
       "    <span style=\"font-size: 0.8em; font-weight: bold; line-height: 1; border-radius: 0.35em; vertical-align: middle; margin-left: 0.5rem\">ORGANISM</span>\n",
       "</mark>\n",
       " who are not being treated for diabetes mellitus and, when present, the differential diagnosis is broad. </br>Artifactual hypoglycemia describes discrepancy between low \n",
       "<mark class=\"entity\" style=\"background: lemon; padding: 0.45em 0.6em; margin: 0 0.25em; line-height: 1; border-radius: 0.35em;\">\n",
       "    capillary\n",
       "    <span style=\"font-size: 0.8em; font-weight: bold; line-height: 1; border-radius: 0.35em; vertical-align: middle; margin-left: 0.5rem\">TISSUE</span>\n",
       "</mark>\n",
       " and normal \n",
       "<mark class=\"entity\" style=\"background: magneta; padding: 0.45em 0.6em; margin: 0 0.25em; line-height: 1; border-radius: 0.35em;\">\n",
       "    plasma glucose\n",
       "    <span style=\"font-size: 0.8em; font-weight: bold; line-height: 1; border-radius: 0.35em; vertical-align: middle; margin-left: 0.5rem\">ORGANISM_SUBSTANCE</span>\n",
       "</mark>\n",
       " levels regardless of symptoms and should be considered in \n",
       "<mark class=\"entity\" style=\"background: grey; padding: 0.45em 0.6em; margin: 0 0.25em; line-height: 1; border-radius: 0.35em;\">\n",
       "    patients\n",
       "    <span style=\"font-size: 0.8em; font-weight: bold; line-height: 1; border-radius: 0.35em; vertical-align: middle; margin-left: 0.5rem\">ORGANISM</span>\n",
       "</mark>\n",
       " with Raynaud’s phenomenon.</br>Case Presentation: A 46-year-old female \n",
       "<mark class=\"entity\" style=\"background: grey; padding: 0.45em 0.6em; margin: 0 0.25em; line-height: 1; border-radius: 0.35em;\">\n",
       "    patient\n",
       "    <span style=\"font-size: 0.8em; font-weight: bold; line-height: 1; border-radius: 0.35em; vertical-align: middle; margin-left: 0.5rem\">ORGANISM</span>\n",
       "</mark>\n",
       " with a history of a sleeve gastrectomy started complaining about episodes of lipothymias preceded by sweating, nausea, and dizziness. </br>During one of these episodes, a \n",
       "<mark class=\"entity\" style=\"background: lemon; padding: 0.45em 0.6em; margin: 0 0.25em; line-height: 1; border-radius: 0.35em;\">\n",
       "    capillary blood glucose\n",
       "    <span style=\"font-size: 0.8em; font-weight: bold; line-height: 1; border-radius: 0.35em; vertical-align: middle; margin-left: 0.5rem\">TISSUE</span>\n",
       "</mark>\n",
       " was obtained with a value of 24 mg/dl. She had multiple emergency admissions with low-capillary glycemia. </br>An exhaustive investigation for possible causes of hypoglycemia was made for 18 months. </br>The 72h fasting test was negative for hypoglycemia. A Raynaud’s phenomenon was identified during one appointment.</br>Conclusion: Artifactual hypoglycemia has been described in various conditions including Raynaud’s phenomenon, peripheral arterial disease, Eisenmenger syndrome, acrocyanosis, or hypothermia. </br>With this case report, we want to reinforce the importance of being aware of this diagnosis to prevent anxiety, unnecessary treatment, and diagnostic tests.</div></span>"
      ],
      "text/plain": [
       "<IPython.core.display.HTML object>"
      ]
     },
     "metadata": {},
     "output_type": "display_data"
    },
    {
     "name": "stdout",
     "output_type": "stream",
     "text": [
      "{('capillary', 'TISSUE'),\n",
      " ('capillary blood glucose', 'TISSUE'),\n",
      " ('patient', 'ORGANISM'),\n",
      " ('patients', 'ORGANISM'),\n",
      " ('people', 'ORGANISM'),\n",
      " ('peripheral arterial', 'MULTI_TISSUE_STRUCTURE'),\n",
      " ('plasma glucose', 'ORGANISM_SUBSTANCE')}\n"
     ]
    },
    {
     "data": {
      "text/plain": [
       "(None, None)"
      ]
     },
     "execution_count": 13,
     "metadata": {},
     "output_type": "execute_result"
    }
   ],
   "source": [
    "# This model detects patient entities, like anatomical systems, organism.\n",
    "display_entities(en_ner_bionlp13cg_md, case_report, color_options)\n",
    "\n",
    "# In the output below I can see the detection of people as organism, capillary as tissue, and plasma glucose as organism substance."
   ]
  },
  {
   "cell_type": "code",
   "execution_count": 14,
   "metadata": {},
   "outputs": [],
   "source": [
    "# To assess only the entities and labels without the visialization, I tweaked the original-\n",
    "# display function\n",
    "\n",
    "def entities_and_label_extractor(model, document):\n",
    "    \"\"\"\n",
    "    This function displays word entities\n",
    "\n",
    "    Parameters:\n",
    "        model (module): A pre-trained model from ScispaCy\n",
    "        document (str): Document to be procesed  \n",
    "    \n",
    "    Returns: list of named/un-named word entities and entity labels\n",
    "    \"\"\"\n",
    "    \n",
    "    nlp = model.load()\n",
    "    doc = nlp(document)\n",
    "    entity_and_label = set([(X.text, X.label_) for X in doc.ents])\n",
    "    \n",
    "    return entity_and_label"
   ]
  },
  {
   "cell_type": "code",
   "execution_count": 15,
   "metadata": {},
   "outputs": [],
   "source": [
    "bionlp_ner = entities_and_label_extractor(en_ner_bionlp13cg_md, case_report)"
   ]
  },
  {
   "cell_type": "code",
   "execution_count": 16,
   "metadata": {},
   "outputs": [
    {
     "data": {
      "text/plain": [
       "set"
      ]
     },
     "execution_count": 16,
     "metadata": {},
     "output_type": "execute_result"
    }
   ],
   "source": [
    "type(bionlp_ner)"
   ]
  },
  {
   "cell_type": "code",
   "execution_count": 17,
   "metadata": {},
   "outputs": [
    {
     "data": {
      "text/plain": [
       "{('capillary', 'TISSUE'),\n",
       " ('capillary blood glucose', 'TISSUE'),\n",
       " ('patient', 'ORGANISM'),\n",
       " ('patients', 'ORGANISM'),\n",
       " ('people', 'ORGANISM'),\n",
       " ('peripheral arterial', 'MULTI_TISSUE_STRUCTURE'),\n",
       " ('plasma glucose', 'ORGANISM_SUBSTANCE')}"
      ]
     },
     "execution_count": 17,
     "metadata": {},
     "output_type": "execute_result"
    }
   ],
   "source": [
    "bionlp_ner"
   ]
  },
  {
   "cell_type": "code",
   "execution_count": 18,
   "metadata": {},
   "outputs": [
    {
     "data": {
      "text/html": [
       "<div>\n",
       "<style scoped>\n",
       "    .dataframe tbody tr th:only-of-type {\n",
       "        vertical-align: middle;\n",
       "    }\n",
       "\n",
       "    .dataframe tbody tr th {\n",
       "        vertical-align: top;\n",
       "    }\n",
       "\n",
       "    .dataframe thead th {\n",
       "        text-align: right;\n",
       "    }\n",
       "</style>\n",
       "<table border=\"1\" class=\"dataframe\">\n",
       "  <thead>\n",
       "    <tr style=\"text-align: right;\">\n",
       "      <th></th>\n",
       "      <th>Entity</th>\n",
       "      <th>Label</th>\n",
       "      <th>NER_model</th>\n",
       "    </tr>\n",
       "  </thead>\n",
       "  <tbody>\n",
       "    <tr>\n",
       "      <th>0</th>\n",
       "      <td>peripheral arterial</td>\n",
       "      <td>MULTI_TISSUE_STRUCTURE</td>\n",
       "      <td>bionlp13cg</td>\n",
       "    </tr>\n",
       "    <tr>\n",
       "      <th>1</th>\n",
       "      <td>capillary blood glucose</td>\n",
       "      <td>TISSUE</td>\n",
       "      <td>bionlp13cg</td>\n",
       "    </tr>\n",
       "    <tr>\n",
       "      <th>2</th>\n",
       "      <td>plasma glucose</td>\n",
       "      <td>ORGANISM_SUBSTANCE</td>\n",
       "      <td>bionlp13cg</td>\n",
       "    </tr>\n",
       "    <tr>\n",
       "      <th>3</th>\n",
       "      <td>patients</td>\n",
       "      <td>ORGANISM</td>\n",
       "      <td>bionlp13cg</td>\n",
       "    </tr>\n",
       "    <tr>\n",
       "      <th>4</th>\n",
       "      <td>capillary</td>\n",
       "      <td>TISSUE</td>\n",
       "      <td>bionlp13cg</td>\n",
       "    </tr>\n",
       "    <tr>\n",
       "      <th>5</th>\n",
       "      <td>patient</td>\n",
       "      <td>ORGANISM</td>\n",
       "      <td>bionlp13cg</td>\n",
       "    </tr>\n",
       "    <tr>\n",
       "      <th>6</th>\n",
       "      <td>people</td>\n",
       "      <td>ORGANISM</td>\n",
       "      <td>bionlp13cg</td>\n",
       "    </tr>\n",
       "  </tbody>\n",
       "</table>\n",
       "</div>"
      ],
      "text/plain": [
       "                    Entity                   Label   NER_model\n",
       "0      peripheral arterial  MULTI_TISSUE_STRUCTURE  bionlp13cg\n",
       "1  capillary blood glucose                  TISSUE  bionlp13cg\n",
       "2           plasma glucose      ORGANISM_SUBSTANCE  bionlp13cg\n",
       "3                 patients                ORGANISM  bionlp13cg\n",
       "4                capillary                  TISSUE  bionlp13cg\n",
       "5                  patient                ORGANISM  bionlp13cg\n",
       "6                   people                ORGANISM  bionlp13cg"
      ]
     },
     "execution_count": 18,
     "metadata": {},
     "output_type": "execute_result"
    }
   ],
   "source": [
    "# Save the output as a dataframe:\n",
    "\n",
    "# save returned values of entities and labels in a dataframe  \n",
    "bionlp_entities_df = pd.DataFrame(bionlp_ner, columns=['Entity', 'Label'])\n",
    "\n",
    "# include a column with constant value of NER model\n",
    "bionlp_entities_df['NER_model'] = 'bionlp13cg'\n",
    "bionlp_entities_df"
   ]
  },
  {
   "attachments": {},
   "cell_type": "markdown",
   "metadata": {},
   "source": [
    "Working with different name detection models and exploring the range of available entities should have improved my intuition on replicating similar tasks on my clinical dataset."
   ]
  },
  {
   "cell_type": "markdown",
   "metadata": {},
   "source": []
  }
 ],
 "metadata": {
  "kernelspec": {
   "display_name": "NLP-env",
   "language": "python",
   "name": "python3"
  },
  "language_info": {
   "codemirror_mode": {
    "name": "ipython",
    "version": 3
   },
   "file_extension": ".py",
   "mimetype": "text/x-python",
   "name": "python",
   "nbconvert_exporter": "python",
   "pygments_lexer": "ipython3",
   "version": "3.8.5 (default, Sep  3 2020, 21:29:08) [MSC v.1916 64 bit (AMD64)]"
  },
  "orig_nbformat": 4,
  "vscode": {
   "interpreter": {
    "hash": "1bb4f339b974377a4014a725290bb918fe6e27151f1a13a44d796dcfe5250c51"
   }
  }
 },
 "nbformat": 4,
 "nbformat_minor": 2
}
